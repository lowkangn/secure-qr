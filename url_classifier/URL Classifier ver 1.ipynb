{
 "cells": [
  {
   "cell_type": "code",
   "execution_count": 1,
   "id": "31e228c7-bbee-44b7-8978-ded3d5149661",
   "metadata": {},
   "outputs": [],
   "source": [
    "import pandas as pd\n",
    "import numpy as np\n",
    "import matplotlib.pyplot as plt\n",
    "import seaborn as sns\n",
    "%matplotlib inline\n",
    "\n",
    "from sklearn.model_selection import train_test_split\n",
    "from sklearn.metrics import classification_report"
   ]
  },
  {
   "cell_type": "code",
   "execution_count": 2,
   "id": "6f6b024a-4dd6-452e-9ccb-42b302bf0ffb",
   "metadata": {},
   "outputs": [
    {
     "data": {
      "text/html": [
       "<div>\n",
       "<style scoped>\n",
       "    .dataframe tbody tr th:only-of-type {\n",
       "        vertical-align: middle;\n",
       "    }\n",
       "\n",
       "    .dataframe tbody tr th {\n",
       "        vertical-align: top;\n",
       "    }\n",
       "\n",
       "    .dataframe thead th {\n",
       "        text-align: right;\n",
       "    }\n",
       "</style>\n",
       "<table border=\"1\" class=\"dataframe\">\n",
       "  <thead>\n",
       "    <tr style=\"text-align: right;\">\n",
       "      <th></th>\n",
       "      <th>url</th>\n",
       "      <th>is_malicious</th>\n",
       "    </tr>\n",
       "  </thead>\n",
       "  <tbody>\n",
       "    <tr>\n",
       "      <th>0</th>\n",
       "      <td>br-icloud.com.br</td>\n",
       "      <td>1</td>\n",
       "    </tr>\n",
       "    <tr>\n",
       "      <th>1</th>\n",
       "      <td>mp3raid.com/music/krizz_kaliko.html</td>\n",
       "      <td>0</td>\n",
       "    </tr>\n",
       "    <tr>\n",
       "      <th>2</th>\n",
       "      <td>bopsecrets.org/rexroth/cr/1.htm</td>\n",
       "      <td>0</td>\n",
       "    </tr>\n",
       "    <tr>\n",
       "      <th>3</th>\n",
       "      <td>http://www.garage-pirenne.be/index.php?option=...</td>\n",
       "      <td>1</td>\n",
       "    </tr>\n",
       "    <tr>\n",
       "      <th>4</th>\n",
       "      <td>http://adventure-nicaragua.net/index.php?optio...</td>\n",
       "      <td>1</td>\n",
       "    </tr>\n",
       "  </tbody>\n",
       "</table>\n",
       "</div>"
      ],
      "text/plain": [
       "                                                 url  is_malicious\n",
       "0                                   br-icloud.com.br             1\n",
       "1                mp3raid.com/music/krizz_kaliko.html             0\n",
       "2                    bopsecrets.org/rexroth/cr/1.htm             0\n",
       "3  http://www.garage-pirenne.be/index.php?option=...             1\n",
       "4  http://adventure-nicaragua.net/index.php?optio...             1"
      ]
     },
     "execution_count": 2,
     "metadata": {},
     "output_type": "execute_result"
    }
   ],
   "source": [
    "urls = pd.read_csv(\"malicious_phish.csv\")\n",
    "urls[\"url\"] = urls[\"url\"].apply(lambda x: x.strip())\n",
    "urls.head()\n",
    "\n",
    "def mark_as_malicious(name):\n",
    "    if name == \"benign\":\n",
    "        return 0\n",
    "    else:\n",
    "        return 1\n",
    "\n",
    "urls[\"type\"] = urls[\"type\"].apply(mark_as_malicious)\n",
    "urls.rename(columns={\"type\": \"is_malicious\"}, inplace=True)\n",
    "urls.head()"
   ]
  },
  {
   "cell_type": "code",
   "execution_count": 3,
   "id": "f37d964c-452d-4ea9-9cae-6118849595b9",
   "metadata": {},
   "outputs": [],
   "source": [
    "# Feature Extraction\n",
    "# As referenced in this article: https://towardsdatascience.com/predicting-the-maliciousness-of-urls-24e12067be5\n",
    "\n",
    "def entropy(url):\n",
    "    prob = [float(url.count(c)) / len(url) for c in dict.fromkeys(list(url))]\n",
    "    entropy = sum([(p * np.log(p) / np.log(2.0)) for p in prob])\n",
    "    return entropy\n",
    "\n",
    "def count_digits(url):\n",
    "    return sum(c.isdigit() for c in url)\n",
    "\n",
    "def length(url):\n",
    "    return len(url)\n",
    "\n",
    "def num_params(url):\n",
    "    split = url.split('?')\n",
    "    if len(split) > 1:\n",
    "        return len(split[1].split('&'))\n",
    "    else:\n",
    "        return 0\n",
    "    \n",
    "def num_frags(url):\n",
    "    return len(url.split('#')) - 1\n",
    "\n",
    "def has_HTTP(url):\n",
    "    if \"http:\" in url:\n",
    "        return 1\n",
    "    else:\n",
    "        return 0\n",
    "\n",
    "urls[\"entropy\"] = urls[\"url\"].apply(entropy)\n",
    "urls[\"# of digits\"] = urls[\"url\"].apply(count_digits)\n",
    "urls[\"length\"] = urls[\"url\"].apply(length)\n",
    "urls[\"# of params\"] = urls[\"url\"].apply(num_params)\n",
    "urls[\"# of fragments\"] = urls[\"url\"].apply(num_frags)\n",
    "urls[\"has_HTTP\"] = urls[\"url\"].apply(has_HTTP)\n",
    "urls.head()\n",
    "\n",
    "X = urls.drop([\"url\", \"is_malicious\"], axis=1)\n",
    "y = urls[\"is_malicious\"]\n",
    "\n",
    "X_train, X_test, y_train, y_test = train_test_split(X, y, test_size=0.33)"
   ]
  },
  {
   "cell_type": "code",
   "execution_count": null,
   "id": "1ad66641-b3a0-42da-a7d1-c7fddae80781",
   "metadata": {},
   "outputs": [],
   "source": [
    "from sklearn.feature_extraction.text import TfidfVectorizer\n",
    "from sklearn.feature_selection import SelectKBest, chi2\n",
    "\n",
    "vectorizer = TfidfVectorizer()\n",
    "X = vectorizer.fit_transform(urls[\"url\"])\n",
    "y = urls[\"is_malicious\"]\n",
    "\n",
    "selector = SelectKBest(chi2, k=100)\n",
    "X = selector.fit_transform(X, y)\n",
    "\n",
    "X_train, X_test, y_train, y_test = train_test_split(X, y, test_size=0.33)"
   ]
  },
  {
   "cell_type": "code",
   "execution_count": 4,
   "id": "92fe1557-f92b-412a-88c9-0d99523b5e1d",
   "metadata": {
    "tags": []
   },
   "outputs": [
    {
     "name": "stdout",
     "output_type": "stream",
     "text": [
      "              precision    recall  f1-score   support\n",
      "\n",
      "           0       0.85      0.95      0.90    141628\n",
      "           1       0.87      0.68      0.76     73266\n",
      "\n",
      "    accuracy                           0.86    214894\n",
      "   macro avg       0.86      0.81      0.83    214894\n",
      "weighted avg       0.86      0.86      0.85    214894\n",
      "\n"
     ]
    }
   ],
   "source": [
    "from sklearn.tree import DecisionTreeClassifier\n",
    "\n",
    "dt = DecisionTreeClassifier()\n",
    "dt.fit(X_train, y_train)\n",
    "predictions = dt.predict(X_test)\n",
    "print(classification_report(y_test, predictions))"
   ]
  },
  {
   "cell_type": "code",
   "execution_count": null,
   "id": "0b09405e-cda9-4efc-a0a2-387c1d3b7b92",
   "metadata": {},
   "outputs": [],
   "source": [
    "def test(url, model):\n",
    "    df = vectorizer.transform([url])\n",
    "    df_selected = selector.transform(df)\n",
    "    return model.predict(df_selected)"
   ]
  },
  {
   "cell_type": "code",
   "execution_count": null,
   "id": "520ef0d2-8ad9-4393-9138-10af95bc239e",
   "metadata": {},
   "outputs": [],
   "source": [
    "def test(url, model):\n",
    "    data = {\n",
    "        \"entropy\": [entropy(url)], \n",
    "        \"# of digits\": [count_digits(url)],\n",
    "        \"length\" : [length(url)],\n",
    "        \"# of params\" : [num_params(url)],\n",
    "        \"# of fragments\": [num_frags(url)],\n",
    "        \"has_HTTP\" : [has_HTTP(url)]\n",
    "        }\n",
    "    print(data)\n",
    "    df = pd.DataFrame(data)\n",
    "    return model.predict(df)"
   ]
  },
  {
   "cell_type": "code",
   "execution_count": null,
   "id": "0af7c504-d671-4db7-a9b7-d9ee52f1040d",
   "metadata": {},
   "outputs": [],
   "source": [
    "#test a single URL\n",
    "test_url = \"https://github.com/NUS-FinTechLab/nce-frontend\"\n",
    "print(test(test_url, dt))"
   ]
  },
  {
   "cell_type": "code",
   "execution_count": null,
   "id": "16c6d58a-28d9-4509-96d2-24500aed19b0",
   "metadata": {},
   "outputs": [],
   "source": [
    "test_urls = pd.read_csv(\"verified_online.csv\")[\"url\"]\n",
    "results = test_urls.apply(lambda x : test(x, dt))\n",
    "print(results.sum())"
   ]
  },
  {
   "cell_type": "code",
   "execution_count": null,
   "id": "5f4d3724-0b66-4406-95ee-6a04b97471b9",
   "metadata": {
    "tags": []
   },
   "outputs": [],
   "source": [
    "urls.to_csv(\"malicious_phish_cleaned.csv\", index=False)"
   ]
  },
  {
   "cell_type": "code",
   "execution_count": 5,
   "id": "7a5a9b51-69be-455d-aa02-5c33370d5faa",
   "metadata": {},
   "outputs": [
    {
     "name": "stdout",
     "output_type": "stream",
     "text": [
      "Decision Tree Model Saved\n"
     ]
    }
   ],
   "source": [
    "import pickle\n",
    "\n",
    "filename = \"url_classifier.sav\"\n",
    "pickle.dump(dt, open(filename, \"wb\"))\n",
    "print(\"Decision Tree Model Saved\")"
   ]
  },
  {
   "cell_type": "code",
   "execution_count": null,
   "id": "2528d390-2a00-4c0c-840e-6ffc5c1ffa80",
   "metadata": {},
   "outputs": [],
   "source": []
  }
 ],
 "metadata": {
  "kernelspec": {
   "display_name": "Python 3 (ipykernel)",
   "language": "python",
   "name": "python3"
  },
  "language_info": {
   "codemirror_mode": {
    "name": "ipython",
    "version": 3
   },
   "file_extension": ".py",
   "mimetype": "text/x-python",
   "name": "python",
   "nbconvert_exporter": "python",
   "pygments_lexer": "ipython3",
   "version": "3.10.9"
  }
 },
 "nbformat": 4,
 "nbformat_minor": 5
}
